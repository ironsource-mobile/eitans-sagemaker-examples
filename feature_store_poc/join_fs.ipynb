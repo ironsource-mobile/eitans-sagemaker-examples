{
 "cells": [
  {
   "cell_type": "markdown",
   "metadata": {},
   "source": [
    "# Amazon SageMaker FeatureStore - Load data and augment with embeddings stored in AWS Feature Store\n",
    "\n",
    "`conda-env-kernel` image with `Python 3.9` kernel is required for this notebook.\n",
    "\n",
    "In this notebook, we will load outcomes data and augment it with device_model embeddings stored in AWS FeatureStore.\n",
    "Esentially, we will implement a JOIN which will add a new column representing emdedding vector corresponding to device_model."
   ]
  },
  {
   "cell_type": "markdown",
   "metadata": {},
   "source": [
    "## Initial setup"
   ]
  },
  {
   "cell_type": "markdown",
   "metadata": {},
   "source": [
    "### Fix <A HREF=\"https://github.com/hdmf-dev/hdmf/issues/617\">panda/numpy incompatibility issues</A>"
   ]
  },
  {
   "cell_type": "code",
   "execution_count": null,
   "metadata": {},
   "outputs": [],
   "source": [
    "import sys\n",
    "#!{sys.executable} -m pip install --upgrade pip\n",
    "#!{sys.executable} -m pip install wheel\n",
    "#!{sys.executable} -m pip install sagemaker pandas numpy numba s3fs aiobotocore --upgrade\n",
    "#!{sys.executable} -m pip install sagemaker pandas numpy numba --upgrade"
   ]
  },
  {
   "cell_type": "markdown",
   "metadata": {},
   "source": [
    "### Set up boto client and the SageMaker Python SDK."
   ]
  },
  {
   "cell_type": "code",
   "execution_count": null,
   "metadata": {},
   "outputs": [],
   "source": [
    "import boto3\n",
    "import json\n",
    "import sagemaker\n",
    "from sagemaker.session import Session\n",
    "\n",
    "region = boto3.Session().region_name\n",
    "boto_client_s3 = boto3.client('s3', region_name=region)\n",
    "\n",
    "boto_session = boto3.Session(region_name=region)\n",
    "\n",
    "boto_client_sagemaker = boto_session.client(service_name='sagemaker', region_name=region)\n",
    "boto_client_featurestore_runtime = boto_session.client(service_name='sagemaker-featurestore-runtime', region_name=region)\n",
    "\n",
    "feature_store_session = Session(\n",
    "    boto_session=boto_session,\n",
    "    sagemaker_client=boto_client_sagemaker,\n",
    "    sagemaker_featurestore_runtime_client=boto_client_featurestore_runtime\n",
    ")"
   ]
  },
  {
   "cell_type": "markdown",
   "metadata": {},
   "source": [
    "## Load features data from the offline store"
   ]
  },
  {
   "cell_type": "markdown",
   "metadata": {},
   "source": [
    "### Define a Feature Store Group"
   ]
  },
  {
   "cell_type": "code",
   "execution_count": null,
   "metadata": {},
   "outputs": [],
   "source": [
    "\n",
    "from time import gmtime, strftime, sleep\n",
    "from sagemaker.feature_store.feature_group import FeatureGroup\n",
    "\n",
    "device_model_feature_group_name = 'deviceid-feature-group' # we are going to store features from different runs in a single group and timestamp the features instead\n",
    "device_model_feature_group = FeatureGroup(name=device_model_feature_group_name, sagemaker_session=feature_store_session)\n",
    "d = device_model_feature_group.describe()\n",
    "d"
   ]
  },
  {
   "cell_type": "markdown",
   "metadata": {},
   "source": [
    "### Load the latest features through Athena"
   ]
  },
  {
   "cell_type": "markdown",
   "metadata": {},
   "source": [
    "Note: if you pull embeddings data from Online store, you will always get the latest version. See https://docs.aws.amazon.com/sagemaker/latest/APIReference/API_feature_store_GetRecord.html\n",
    "Also, when using Online store, you will need to rename the column as shown below before it can be used for JOIN with the outcomes data.\n",
    "a = my_sample_data2.rename(columns={'DeviceID': 'device_model'})"
   ]
  },
  {
   "cell_type": "code",
   "execution_count": null,
   "metadata": {},
   "outputs": [],
   "source": [
    "device_model_query = device_model_feature_group.athena_query()\n",
    "device_model_query"
   ]
  },
  {
   "cell_type": "code",
   "execution_count": null,
   "metadata": {},
   "outputs": [],
   "source": [
    "# Create a query to pull the latest snapshot without duplicates and deleted records in the offline store.\n",
    "# For details see https://docs.aws.amazon.com/sagemaker/latest/dg/feature-store-athena-glue-integration.html\n",
    "query_string = f\"\"\"\n",
    "SELECT deviceid AS device_model, embeddings, eventtime\n",
    "FROM\n",
    "    (SELECT *,\n",
    "         row_number()\n",
    "        OVER (PARTITION BY {d[\"RecordIdentifierFeatureName\"]}\n",
    "    ORDER BY  {d[\"EventTimeFeatureName\"]} DESC) AS row_num\n",
    "    FROM \"{device_model_query.table_name}\")\n",
    "WHERE row_num = 1 AND NOT is_deleted;\n",
    "\"\"\"\n",
    "query_string"
   ]
  },
  {
   "cell_type": "code",
   "execution_count": null,
   "metadata": {},
   "outputs": [],
   "source": [
    "import pandas as pd\n",
    "\n",
    "default_s3_bucket_name = feature_store_session.default_bucket() # default S3 bucket defined during SageMaker domain creation.\n",
    "prefix = 'query_results/'\n",
    "\n",
    "# run Athena query. The output is loaded to a Pandas dataframe.\n",
    "latest_device_model_embeddings_feature = pd.DataFrame()\n",
    "device_model_query.run(query_string=query_string, output_location=f\"s3://{default_s3_bucket_name}/{prefix}\")\n",
    "device_model_query.wait()\n",
    "latest_device_model_embeddings_feature = device_model_query.as_dataframe()\n",
    "latest_device_model_embeddings_feature"
   ]
  },
  {
   "cell_type": "markdown",
   "metadata": {},
   "source": [
    "======================================="
   ]
  },
  {
   "cell_type": "markdown",
   "metadata": {},
   "source": [
    "## Load outcomes and run a join\n"
   ]
  },
  {
   "cell_type": "code",
   "execution_count": null,
   "metadata": {},
   "outputs": [],
   "source": [
    "import pandas as pd\n",
    "my_bucket = 'sagemaker-studio-ilya-test-20211221'\n",
    "my_file = 'input_data/csv_outcomes_is_ilya2.csv'\n",
    "\n",
    "outcomes = pd.read_csv(f\"s3://{my_bucket}/{my_file}\")\n",
    "#outcomes = pd.read_csv('s3://sagemaker-studio-ilya-test-20211221/input_data/csv_outcomes_is_ilya2.csv')\n",
    "outcomes.head()"
   ]
  },
  {
   "cell_type": "code",
   "execution_count": null,
   "metadata": {},
   "outputs": [],
   "source": [
    "selected_columns = outcomes[[\"supply_app_bundle_id\",\"device_id\", \"device_model\"]]\n",
    "selected_columns\n"
   ]
  },
  {
   "cell_type": "code",
   "execution_count": null,
   "metadata": {},
   "outputs": [],
   "source": [
    "\n",
    "result= pd.merge(selected_columns,latest_device_model_embeddings_feature,on=\"device_model\")\n",
    "result"
   ]
  },
  {
   "cell_type": "code",
   "execution_count": null,
   "metadata": {},
   "outputs": [],
   "source": [
    "latest_device_model_embeddings_feature.loc[latest_device_model_embeddings_feature['device_model'].isin(['sm-g973f','dammar','kyv48','b50pro','ptb10r'])]"
   ]
  },
  {
   "cell_type": "markdown",
   "metadata": {},
   "source": [
    "## Save the results"
   ]
  },
  {
   "cell_type": "code",
   "execution_count": null,
   "metadata": {},
   "outputs": [],
   "source": [
    "#"
   ]
  }
 ],
 "metadata": {
  "instance_type": "ml.t3.medium",
  "interpreter": {
   "hash": "12a2d5ddd157b106bb479ba14d1b11656fa1dbf4e9c62fc64d499c1c72d4bda9"
  },
  "kernelspec": {
   "display_name": "Python [conda env: myenv] (conda-env-kernel/latest)",
   "language": "python",
   "name": "conda-env-myenv-py__SAGEMAKER_INTERNAL__arn:aws:sagemaker:us-east-2:032106861074:image/conda-env-kernel"
  },
  "language_info": {
   "codemirror_mode": {
    "name": "ipython",
    "version": 3
   },
   "file_extension": ".py",
   "mimetype": "text/x-python",
   "name": "python",
   "nbconvert_exporter": "python",
   "pygments_lexer": "ipython3",
   "version": "3.9.9"
  }
 },
 "nbformat": 4,
 "nbformat_minor": 4
}
